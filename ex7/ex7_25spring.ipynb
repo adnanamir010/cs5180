{
 "cells": [
  {
   "cell_type": "markdown",
   "id": "0b25825d-5498-487d-b2c8-ba3f122c5188",
   "metadata": {},
   "source": [
    "# Q4: PG Algs Cartpole Arena :)"
   ]
  },
  {
   "cell_type": "markdown",
   "id": "recent-bunch",
   "metadata": {},
   "source": [
    "## DDPG (Deep Deterministic Policy Gradient)\n",
    "\n",
    "Until now, we applied policy gradient (on-policy) in order to handle continuos spaces.\n",
    "\n",
    "DDPG (Deep Deterministic Policy Gradient) algorithm applies policy gradient and Actor-Critic architecture in deep Q-learning discussed in DQN. But, as you can see later, it is \"deterministic\" (not \"stochastic\"), and this is then why it's called **off-policy** architecture."
   ]
  },
  {
   "cell_type": "code",
   "execution_count": 1,
   "id": "3558de16",
   "metadata": {},
   "outputs": [
    {
     "name": "stdout",
     "output_type": "stream",
     "text": [
      "Requirement already satisfied: torch in c:\\users\\adnan\\appdata\\local\\programs\\python\\python312\\lib\\site-packages (2.5.0)\n",
      "Requirement already satisfied: numpy in c:\\users\\adnan\\appdata\\local\\programs\\python\\python312\\lib\\site-packages (2.1.2)\n",
      "Requirement already satisfied: matplotlib in c:\\users\\adnan\\appdata\\local\\programs\\python\\python312\\lib\\site-packages (3.9.2)\n",
      "Requirement already satisfied: filelock in c:\\users\\adnan\\appdata\\local\\programs\\python\\python312\\lib\\site-packages (from torch) (3.16.1)\n",
      "Requirement already satisfied: typing-extensions>=4.8.0 in c:\\users\\adnan\\appdata\\local\\programs\\python\\python312\\lib\\site-packages (from torch) (4.12.2)\n",
      "Requirement already satisfied: networkx in c:\\users\\adnan\\appdata\\local\\programs\\python\\python312\\lib\\site-packages (from torch) (3.4.2)\n",
      "Requirement already satisfied: jinja2 in c:\\users\\adnan\\appdata\\local\\programs\\python\\python312\\lib\\site-packages (from torch) (3.1.4)\n",
      "Requirement already satisfied: fsspec in c:\\users\\adnan\\appdata\\local\\programs\\python\\python312\\lib\\site-packages (from torch) (2024.10.0)\n",
      "Requirement already satisfied: setuptools in c:\\users\\adnan\\appdata\\local\\programs\\python\\python312\\lib\\site-packages (from torch) (75.2.0)\n",
      "Requirement already satisfied: sympy==1.13.1 in c:\\users\\adnan\\appdata\\local\\programs\\python\\python312\\lib\\site-packages (from torch) (1.13.1)\n",
      "Requirement already satisfied: mpmath<1.4,>=1.1.0 in c:\\users\\adnan\\appdata\\local\\programs\\python\\python312\\lib\\site-packages (from sympy==1.13.1->torch) (1.3.0)\n",
      "Requirement already satisfied: contourpy>=1.0.1 in c:\\users\\adnan\\appdata\\local\\programs\\python\\python312\\lib\\site-packages (from matplotlib) (1.3.0)\n",
      "Requirement already satisfied: cycler>=0.10 in c:\\users\\adnan\\appdata\\local\\programs\\python\\python312\\lib\\site-packages (from matplotlib) (0.12.1)\n",
      "Requirement already satisfied: fonttools>=4.22.0 in c:\\users\\adnan\\appdata\\local\\programs\\python\\python312\\lib\\site-packages (from matplotlib) (4.54.1)\n",
      "Requirement already satisfied: kiwisolver>=1.3.1 in c:\\users\\adnan\\appdata\\local\\programs\\python\\python312\\lib\\site-packages (from matplotlib) (1.4.7)\n",
      "Requirement already satisfied: packaging>=20.0 in c:\\users\\adnan\\appdata\\roaming\\python\\python312\\site-packages (from matplotlib) (24.1)\n",
      "Requirement already satisfied: pillow>=8 in c:\\users\\adnan\\appdata\\local\\programs\\python\\python312\\lib\\site-packages (from matplotlib) (11.0.0)\n",
      "Requirement already satisfied: pyparsing>=2.3.1 in c:\\users\\adnan\\appdata\\local\\programs\\python\\python312\\lib\\site-packages (from matplotlib) (3.2.0)\n",
      "Requirement already satisfied: python-dateutil>=2.7 in c:\\users\\adnan\\appdata\\roaming\\python\\python312\\site-packages (from matplotlib) (2.9.0.post0)\n",
      "Requirement already satisfied: six>=1.5 in c:\\users\\adnan\\appdata\\roaming\\python\\python312\\site-packages (from python-dateutil>=2.7->matplotlib) (1.16.0)\n",
      "Requirement already satisfied: MarkupSafe>=2.0 in c:\\users\\adnan\\appdata\\local\\programs\\python\\python312\\lib\\site-packages (from jinja2->torch) (3.0.2)\n"
     ]
    },
    {
     "name": "stderr",
     "output_type": "stream",
     "text": [
      "\n",
      "[notice] A new release of pip is available: 24.3.1 -> 25.0.1\n",
      "[notice] To update, run: python.exe -m pip install --upgrade pip\n"
     ]
    }
   ],
   "source": [
    "!pip install torch numpy matplotlib"
   ]
  },
  {
   "cell_type": "code",
   "execution_count": 33,
   "id": "aa81765d",
   "metadata": {},
   "outputs": [],
   "source": [
    "import random\n",
    "import numpy as np\n",
    "import torch\n",
    "import torch.nn as nn\n",
    "from torch.nn import functional as F"
   ]
  },
  {
   "cell_type": "markdown",
   "id": "126dd724",
   "metadata": {},
   "source": [
    "Because DDPG cannot operate discrete action space, and here we then use custom CartPole implementation for continuous action space.<br>\n",
    "The shape of action space in this example is ```Box(low=-1.0, high=1.0, shape=(1,), dtype=np.float32)```."
   ]
  },
  {
   "cell_type": "code",
   "execution_count": 34,
   "id": "b95c7fe5-f0c1-4ccd-9849-137634bb9114",
   "metadata": {},
   "outputs": [],
   "source": [
    "import math\n",
    "import random\n",
    "\n",
    "class CartPole():\n",
    "    def __init__(self):\n",
    "        self._cart_mass = 0.31  # (kg)\n",
    "        self._pole_mass = 0.055  # (kg)\n",
    "        self._pole_length = 0.4  # (m)\n",
    "\n",
    "        self.x_threshold = 1.0\n",
    "        self.theta_threshold = 12 * 2 * math.pi / 360\n",
    "\n",
    "        self._state = []\n",
    "        self._done = True\n",
    "\n",
    "    def reset(self):\n",
    "        self._step = 0\n",
    "        self._cart_position = math.tanh(random.gauss(0.0, 0.01)) * 4.8  # (m)\n",
    "        self._cart_velocity = random.uniform(-0.05, 0.05)  # (m/s)\n",
    "        initial_pole_angle=random.uniform(-0.05, 0.05)\n",
    "        self._pole_angle =  (initial_pole_angle + math.pi) % (2 * math.pi) - math.pi  # (rad)\n",
    "        self._pole_angular_velocity = random.uniform(-0.05, 0.05)  # (rad/s)\n",
    "\n",
    "        # (CartPole-v0 uses numpy.ndarray for state,\n",
    "        #  but here returns Python array.)\n",
    "        self._state = [self._cart_position, self._cart_velocity, self._pole_angle, self._pole_angular_velocity]\n",
    "        self._done = False\n",
    "        return self._state\n",
    "\n",
    "    def step(self, action: float):\n",
    "        \"\"\"\n",
    "        Args:\n",
    "            action: float value between -1.0 and 1.0\n",
    "        \"\"\"\n",
    "        if self._done:\n",
    "            raise Exception(\"Cannot run step() before reset\")\n",
    "\n",
    "        self._step += 1\n",
    "\n",
    "        # Add a small random noise\n",
    "        # (The agent won't succeed by applying zero force each time.)\n",
    "        force = 1.0 * (action + random.uniform(-0.02, 0.02))\n",
    "\n",
    "        total_mass = self._cart_mass + self._pole_mass\n",
    "        pole_half_length = self._pole_length / 2\n",
    "        pole_mass_length = self._pole_mass * pole_half_length\n",
    "\n",
    "        cosTheta = math.cos(self._pole_angle)\n",
    "        sinTheta = math.sin(self._pole_angle)\n",
    "\n",
    "        temp = (\n",
    "            force + pole_mass_length * self._pole_angular_velocity ** 2 * sinTheta\n",
    "        ) / total_mass\n",
    "        angularAccel = (9.8 * sinTheta - cosTheta * temp) / (\n",
    "            pole_half_length\n",
    "            * (4.0 / 3.0 - (self._pole_mass * cosTheta ** 2) / total_mass)\n",
    "        )\n",
    "        linearAccel = temp - (pole_mass_length * angularAccel * cosTheta) / total_mass\n",
    "\n",
    "        self._cart_position = self._cart_position + 0.02 * self._cart_velocity\n",
    "        self._cart_velocity = self._cart_velocity + 0.02 * linearAccel\n",
    "\n",
    "        self._pole_angle = (\n",
    "            self._pole_angle + 0.02 * self._pole_angular_velocity\n",
    "        )\n",
    "        self._pole_angle = (self._pole_angle + math.pi) % (2 * math.pi) - math.pi\n",
    "\n",
    "        self._pole_angular_velocity = (\n",
    "            self._pole_angular_velocity + 0.02 * angularAccel\n",
    "        )\n",
    "\n",
    "        # (CartPole-v0 uses numpy.ndarray for state,\n",
    "        #  but here returns Python array.)\n",
    "        self._state = [self._cart_position, self._cart_velocity, self._pole_angle, self._pole_angular_velocity]\n",
    "        term = self._state[0] < -self.x_threshold or \\\n",
    "            self._state[0] > self.x_threshold or \\\n",
    "            self._state[2] < -self.theta_threshold or \\\n",
    "            self._state[2] > self.theta_threshold\n",
    "        term = bool(term)\n",
    "        trunc = (self._step == 500)\n",
    "        trunc = bool(trunc)\n",
    "        self._done = bool(term or trunc)\n",
    "        return self._state, 1.0, term, trunc, {}"
   ]
  },
  {
   "cell_type": "code",
   "execution_count": 35,
   "id": "f4ac1dea-df30-4407-8ef6-ae70c2661898",
   "metadata": {},
   "outputs": [],
   "source": [
    "env = CartPole()"
   ]
  },
  {
   "cell_type": "markdown",
   "id": "852a1a1e",
   "metadata": {},
   "source": [
    "First of all, we will start with the following equation (Bellman equation) discussed in Q-Learning:\n",
    "\n",
    "$$ Q^{*}(s_t,a_t) = r_t + \\gamma \\max_a{Q(s_{t+1},a)} \\;\\;\\;\\;\\;\\; (1)$$\n",
    "\n",
    "where $ Q^{*} $ means the optimal $ Q $ value.\n",
    "\n",
    "Now we consider Q-network $ Q_{\\phi} $ where $\\phi$ is parameters.<br>\n",
    "To optimize the equation (1), we should find $\\phi$ to minimize the following loss $L$ for tuples $ (s_t, a_t, r_t, s_{t+1}, d_t) $.\n",
    "\n",
    "$$ L = E\\left[ \\left( Q_{\\phi}(s_t, a_t) - \\left( r_t + \\gamma (1 - d_t) \\max_a{Q_{\\phi}(s_{t+1},a)} \\right) \\right)^2 \\right] \\;\\;\\;\\;\\;\\; (2)$$\n",
    "\n",
    "where $d_t = 1$ if the episode is done, and $0$ otherwise.\n",
    "\n",
    "To make the above maximization $\\max_a Q_{\\phi}(s_{t+1}, a)$ work in continuous action space, we introduce the action policy $\\mu_{\\theta}(s)$, with which we'll find $\\theta$ to maximize $ Q_{\\phi}(s, \\mu_{\\theta}(s)) $.<br>\n",
    "The equation (2) will then be written as follows.\n",
    "\n",
    "$$ L = E\\left[ \\left( Q_{\\phi}(s_t, a_t) - \\left( r_t + \\gamma (1 - d_t) Q_{\\phi}(s_{t+1},\\mu_{\\theta}(s_{t+1})) \\right) \\right)^2 \\right] \\;\\;\\;\\;\\;\\; (3) $$\n",
    "\n",
    "\n",
    "Please take care for the difference between this policy $\\mu_{\\theta}(s)$ and a policy used in on-policy method. Here $\\mu_{\\theta}(s)$ is deterministic and it doesn't care how the action space is distributed, unlike $ P(a | \\pi_\\theta (s)) $ in on-policy methods. (This is because DDPG is called \"deterministic\" and it's in off-policy method.)\n",
    "\n",
    "To make the minimization (3) stable, we also introduce the separated parameters $\\phi^{\\prime}$ and $\\theta^{\\prime}$ (called **target**) as follows.\n",
    "\n",
    "$$ L = E\\left[ \\left( Q_{\\phi}(s_t, a_t) - \\left( r_t + \\gamma (1 - d_t) Q_{{\\phi}^{\\prime}}(s_{t+1},\\mu_{\\theta^{\\prime}}(s_{t+1})) \\right) \\right)^2 \\right] \\;\\;\\;\\;\\;\\; (4) $$\n",
    "\n",
    "And these parameters are delayed with coefficient parameter (hyper-parameter) $ \\tau $ (which is near 0) after each training.\n",
    "\n",
    "$ \\phi^{\\prime} = \\tau \\phi + (1-\\tau) \\phi^{\\prime} $\n",
    "\n",
    "$ \\theta^{\\prime} = \\tau \\theta + (1-\\tau) \\theta^{\\prime} $\n",
    "\n",
    "\n",
    "To summarize algorithm :\n",
    "\n",
    "- Collect tuples $ (s_t, a_t, r_t, s_{t+1}, d_t) $\n",
    "- Optimize $ \\phi $ to minimize $L$ in (4)\n",
    "- Optimize $ \\theta $ to maximize $Q_{\\phi}(s, \\mu_{\\theta}(s))$\n",
    "- Update target parameters as follows\n",
    "    - $ \\phi^{\\prime} = \\tau \\phi + (1-\\tau) \\phi^{\\prime} $\n",
    "    - $ \\theta^{\\prime} = \\tau \\theta + (1-\\tau) \\theta^{\\prime} $\n",
    "\n",
    "Now let's start building networks."
   ]
  },
  {
   "cell_type": "markdown",
   "id": "d32e178f",
   "metadata": {},
   "source": [
    "(1) Q-network\n",
    "\n",
    "First, we build Q-network (both $Q_{\\phi}(s, a)$ and $Q_{{\\phi}^{\\prime}}(s, a)$) as follows."
   ]
  },
  {
   "cell_type": "code",
   "execution_count": 36,
   "id": "5f70ad95",
   "metadata": {},
   "outputs": [],
   "source": [
    "device = torch.device(\"cuda\" if torch.cuda.is_available() else \"cpu\")\n",
    "\n",
    "class QNet(nn.Module):\n",
    "    def __init__(self, hidden_dim=64):\n",
    "        super().__init__()\n",
    "\n",
    "        self.hidden = nn.Linear(5, hidden_dim)\n",
    "        self.output = nn.Linear(hidden_dim, 1)\n",
    "\n",
    "    def forward(self, s, a):\n",
    "        outs = torch.concat((s, a), dim=-1)\n",
    "        outs = self.hidden(outs)\n",
    "        outs = F.relu(outs)\n",
    "        outs = self.output(outs)\n",
    "        return outs\n",
    "\n",
    "q_origin_model = QNet().to(device)  # Q_phi\n",
    "q_target_model = QNet().to(device)  # Q_phi'\n",
    "_ = q_target_model.requires_grad_(False)  # target model doen't need grad"
   ]
  },
  {
   "cell_type": "markdown",
   "id": "d63d556d",
   "metadata": {},
   "source": [
    "(2) Policy network\n",
    "\n",
    "Next we build policy network (both $\\mu_{\\theta}(s)$ and $\\mu_{\\theta^{\\prime}}(s)$) as follows.\n",
    "\n",
    "As I have mentioned above, action space is ```Box(low=-1.0, high=1.0, shape=(1,), dtype=np.float32)``` and it's then activated by ```tanh()```."
   ]
  },
  {
   "cell_type": "code",
   "execution_count": 37,
   "id": "5743a113",
   "metadata": {},
   "outputs": [],
   "source": [
    "class PolicyNet(nn.Module):\n",
    "    def __init__(self, hidden_dim=64):\n",
    "        super().__init__()\n",
    "\n",
    "        self.hidden = nn.Linear(4, hidden_dim)\n",
    "        self.output = nn.Linear(hidden_dim, 1)\n",
    "\n",
    "    def forward(self, s):\n",
    "        outs = self.hidden(s)\n",
    "        outs = F.relu(outs)\n",
    "        outs = self.output(outs)\n",
    "        outs = torch.tanh(outs)\n",
    "        return outs\n",
    "\n",
    "mu_origin_model = PolicyNet().to(device)  # mu_theta\n",
    "mu_target_model = PolicyNet().to(device)  # mu_theta'\n",
    "_ = mu_target_model.requires_grad_(False)  # target model doen't need grad"
   ]
  },
  {
   "cell_type": "markdown",
   "id": "448fb21a",
   "metadata": {},
   "source": [
    "(3) Function to optimize network parameters $\\phi, \\theta$\n",
    "\n",
    "As I have mentioned above, we optimize parameters as follows :\n",
    "\n",
    "- Optimize $ \\phi $ to minimize $L$ in (4)\n",
    "- Optimize $ \\theta $ to maximize $Q_{\\phi}(s, \\mu_{\\theta}(s))$"
   ]
  },
  {
   "cell_type": "code",
   "execution_count": 38,
   "id": "c19bd68e",
   "metadata": {},
   "outputs": [],
   "source": [
    "gamma = 0.99\n",
    "opt_q = torch.optim.AdamW(q_origin_model.parameters(), lr=0.0005)\n",
    "opt_mu = torch.optim.AdamW(mu_origin_model.parameters(), lr=0.0005)\n",
    "\n",
    "def optimize(states, actions, rewards, next_states, dones):\n",
    "    # Convert to tensor\n",
    "    states = torch.tensor(states, dtype=torch.float).to(device)\n",
    "    actions = torch.tensor(actions, dtype=torch.float).to(device)\n",
    "    actions = actions.unsqueeze(dim=1)\n",
    "    rewards = torch.tensor(rewards, dtype=torch.float).to(device)\n",
    "    rewards = rewards.unsqueeze(dim=1)\n",
    "    next_states = torch.tensor(next_states, dtype=torch.float).to(device)\n",
    "    dones = torch.tensor(dones, dtype=torch.float).to(device)\n",
    "    dones = dones.unsqueeze(dim=1)\n",
    "\n",
    "    # Optimize critic loss\n",
    "    # Get the target Q values\n",
    "    with torch.no_grad():\n",
    "        # Get actions from target policy network\n",
    "        next_actions = mu_target_model(next_states)\n",
    "        # Get Q values from target Q network\n",
    "        next_q_values = q_target_model(next_states, next_actions)\n",
    "        # Compute target using Bellman equation\n",
    "        target_q = rewards + gamma * (1 - dones) * next_q_values\n",
    "    \n",
    "    # Get current Q values\n",
    "    current_q = q_origin_model(states, actions)\n",
    "    \n",
    "    # Compute critic loss (MSE between current and target Q values)\n",
    "    q_loss = F.mse_loss(current_q, target_q)\n",
    "    \n",
    "    # Optimize critic\n",
    "    opt_q.zero_grad()\n",
    "    q_loss.backward()\n",
    "    opt_q.step()\n",
    "\n",
    "    # Optimize actor loss\n",
    "    # Temporarily disable gradient computation for Q-network\n",
    "    for p in q_origin_model.parameters():\n",
    "        p.requires_grad = False\n",
    "    \n",
    "    # Compute actor loss (negative of Q values for actions from current policy)\n",
    "    policy_actions = mu_origin_model(states)\n",
    "    actor_loss = -q_origin_model(states, policy_actions).mean()\n",
    "    \n",
    "    # Optimize actor\n",
    "    opt_mu.zero_grad()\n",
    "    actor_loss.backward()\n",
    "    opt_mu.step()\n",
    "    \n",
    "    for p in q_origin_model.parameters():\n",
    "        p.requires_grad = True # enable grad again"
   ]
  },
  {
   "cell_type": "markdown",
   "id": "b3c8100e",
   "metadata": {},
   "source": [
    "(4) Function to update target parameters $\\phi^{\\prime}, \\theta^{\\prime}$\n",
    "\n",
    "Target parameters are updated as follows.\n",
    "\n",
    "- $ \\phi^{\\prime} = \\tau \\phi + (1-\\tau) \\phi^{\\prime} $\n",
    "- $ \\theta^{\\prime} = \\tau \\theta + (1-\\tau) \\theta^{\\prime} $"
   ]
  },
  {
   "cell_type": "code",
   "execution_count": 39,
   "id": "10bb910b",
   "metadata": {},
   "outputs": [],
   "source": [
    "tau = 0.002\n",
    "\n",
    "def update_target():\n",
    "    for var, var_target in zip(q_origin_model.parameters(), q_target_model.parameters()):\n",
    "        var_target.data = tau * var.data + (1.0 - tau) * var_target.data\n",
    "    for var, var_target in zip(mu_origin_model.parameters(), mu_target_model.parameters()):\n",
    "        var_target.data = tau * var.data + (1.0 - tau) * var_target.data"
   ]
  },
  {
   "cell_type": "markdown",
   "id": "ddc1f7f1",
   "metadata": {},
   "source": [
    "(5) Replay buffer\n",
    "\n",
    "In on-policy architecture, we fed the sequential samples (trajectory) for each training batch.\n",
    "To prevent from learning only for recent experiences in DDPG, we store the past experience of tuples $ (s_t, a_t, r_t, s_{t+1}, d_t) $ in buffer (called \"replay buffer\") and pick up the randomized samples in batch training."
   ]
  },
  {
   "cell_type": "code",
   "execution_count": 40,
   "id": "1172351c",
   "metadata": {},
   "outputs": [],
   "source": [
    "class replayBuffer:\n",
    "    def __init__(self, buffer_size: int):\n",
    "        self.buffer_size = buffer_size\n",
    "        self.buffer = []\n",
    "\n",
    "    def add(self, item):\n",
    "        if len(self.buffer) == self.buffer_size:\n",
    "            self.buffer.pop(0)\n",
    "        self.buffer.append(item)\n",
    "\n",
    "    def sample(self, batch_size):\n",
    "        items = random.sample(self.buffer, batch_size)\n",
    "        states   = [i[0] for i in items]\n",
    "        actions  = [i[1] for i in items]\n",
    "        rewards  = [i[2] for i in items]\n",
    "        n_states = [i[3] for i in items]\n",
    "        dones    = [i[4] for i in items]\n",
    "        return states, actions, rewards, n_states, dones\n",
    "\n",
    "    def length(self):\n",
    "        return len(self.buffer)\n",
    "\n",
    "buffer = replayBuffer(buffer_size=20000)"
   ]
  },
  {
   "cell_type": "markdown",
   "id": "4292f941",
   "metadata": {},
   "source": [
    "(6) Noise for exploration\n",
    "\n",
    "As I mentioned above, the policy $\\mu_{\\theta}(s)$ is deterministic and it doesn't care how the actions are selected. In order for this reason, the noise will be added for exploration to pick up samples in episode's trials. (If not, this will stuck in the same values forever.)<br>\n",
    "In DDPG, the following noise (so called Ornstein-Uhlenbeck noise) is often used."
   ]
  },
  {
   "cell_type": "code",
   "execution_count": 41,
   "id": "6e192851",
   "metadata": {},
   "outputs": [],
   "source": [
    "class OrnsteinUhlenbeckActionNoise:\n",
    "    def __init__(self, mu, sigma, theta=.15, dt=1e-2, x0=None):\n",
    "        self.theta = theta\n",
    "        self.mu = mu\n",
    "        self.sigma = sigma\n",
    "        self.dt = dt\n",
    "        self.x0 = x0\n",
    "        self.reset()\n",
    "\n",
    "    def __call__(self):\n",
    "        x = self.x_prev + self.theta * (self.mu - self.x_prev) * self.dt + self.sigma * np.sqrt(self.dt) * np.random.normal(size=self.mu.shape)\n",
    "        self.x_prev = x\n",
    "        return x\n",
    "\n",
    "    def reset(self):\n",
    "        self.x_prev = self.x0 if self.x0 is not None else np.zeros_like(self.mu)\n",
    "\n",
    "ou_action_noise = OrnsteinUhlenbeckActionNoise(mu=np.zeros(1), sigma=np.ones(1) * 0.05)\n",
    "\n",
    "# pick up action with Ornstein-Uhlenbeck noise\n",
    "def pick_sample(s):\n",
    "    with torch.no_grad():\n",
    "        s = np.array(s)\n",
    "        s_batch = np.expand_dims(s, axis=0)\n",
    "        s_batch = torch.tensor(s_batch, dtype=torch.float).to(device)\n",
    "        action_det = mu_origin_model(s_batch)\n",
    "        action_det = action_det.squeeze(dim=1)\n",
    "        noise = ou_action_noise()\n",
    "        action = action_det.cpu().numpy() + noise\n",
    "        action = np.clip(action, -1.0, 1.0)\n",
    "        return float(action.item())"
   ]
  },
  {
   "cell_type": "markdown",
   "id": "f3b19a01",
   "metadata": {},
   "source": [
    "(7) Now let's put it all together !\n",
    "\n",
    "I note that here I train (optimize parameters) in each step, and it might then be slow to step."
   ]
  },
  {
   "cell_type": "code",
   "execution_count": 42,
   "id": "fe030199",
   "metadata": {},
   "outputs": [
    {
     "name": "stdout",
     "output_type": "stream",
     "text": [
      "Run episode1999 with rewards 500.0\n",
      "Done\n"
     ]
    }
   ],
   "source": [
    "batch_size = 250\n",
    "\n",
    "reward_records = []\n",
    "for i in range(2000):\n",
    "    # Run episode till done\n",
    "    s = env.reset()\n",
    "    done = False\n",
    "    cum_reward = 0\n",
    "    while not done:\n",
    "        a = pick_sample(s)\n",
    "        s_next, r, term, trunc, _ = env.step(a)\n",
    "        done = term or trunc\n",
    "        buffer.add([s, a, r, s_next, float(term)])  # (see above note for truncation)\n",
    "        cum_reward += r\n",
    "\n",
    "        # Train (optimize parameters)\n",
    "        if buffer.length() >= batch_size:\n",
    "            states, actions, rewards, n_states, dones = buffer.sample(batch_size)\n",
    "            optimize(states, actions, rewards, n_states, dones)\n",
    "            update_target()\n",
    "        s = s_next\n",
    "\n",
    "    # Output total rewards in episode (max 500)\n",
    "    print(\"Run episode {} with rewards {}\".format(i, cum_reward), end=\"\\r\")\n",
    "    reward_records.append(cum_reward)\n",
    "\n",
    "    # stop if reward mean > 475.0\n",
    "    if np.average(reward_records[-50:]) > 475.0:\n",
    "        break\n",
    "\n",
    "print(\"\\nDone\")"
   ]
  },
  {
   "cell_type": "code",
   "execution_count": 43,
   "id": "2b31f82a-acb2-4631-98db-dad99a2fc50a",
   "metadata": {},
   "outputs": [
    {
     "data": {
      "text/plain": [
       "Text(0, 0.5, 'Total Reward')"
      ]
     },
     "execution_count": 43,
     "metadata": {},
     "output_type": "execute_result"
    },
    {
     "data": {
      "image/png": "[encoded data removed]",
      "text/plain": [
       "<Figure size 640x480 with 1 Axes>"
      ]
     },
     "metadata": {},
     "output_type": "display_data"
    }
   ],
   "source": [
    "import matplotlib.pyplot as plt\n",
    "# Generate recent 50 interval average\n",
    "average_reward = []\n",
    "for idx in range(len(reward_records)):\n",
    "    avg_list = np.empty(shape=(1,), dtype=int)\n",
    "    if idx < 50:\n",
    "        avg_list = reward_records[:idx+1]\n",
    "    else:\n",
    "        avg_list = reward_records[idx-49:idx+1]\n",
    "    average_reward.append(np.average(avg_list))\n",
    "plt.plot(reward_records)\n",
    "plt.plot(average_reward)\n",
    "plt.title(\"DDPG Leearning Curve\")\n",
    "plt.xlabel(\"Episode\")\n",
    "plt.ylabel(\"Total Reward\")"
   ]
  },
  {
   "cell_type": "markdown",
   "id": "830f3f20",
   "metadata": {},
   "source": [
    "## TD3: (Clipped double-Q learning)\n",
    "\n",
    "In advanced algorithms, such as TD3 (Twin Delayed DDPG), 2 Q-networks - $ Q_{\\phi_1}(s, a), Q_{\\phi_2}(s, a) $ - and corresponding 2 target networks - $ Q_{\\phi_1^{\\prime}}(s, a), Q_{\\phi_2^{\\prime}}(s, a) $ - are used to optimize in order to mitigate the risk of overestimation in Q-function.\n",
    "\n",
    "In this double-Q algorithms, we optimize parameters as follows :\n",
    "\n",
    "- Optimize $ \\phi_1 $ to minimize $ E\\left[ \\left( Q_{\\phi_1}(s_t, a_t) - \\left( r_t + \\gamma (1 - d_t) \\min_{i=1,2} Q_{{\\phi_i}^{\\prime}}(s_{t+1},\\mu_{\\theta^{\\prime}}(s_{t+1})) \\right) \\right)^2 \\right] $\n",
    "- Optimize $ \\phi_2 $ to minimize $ E\\left[ \\left( Q_{\\phi_2}(s_t, a_t) - \\left( r_t + \\gamma (1 - d_t) \\min_{i=1,2} Q_{{\\phi_i}^{\\prime}}(s_{t+1},\\mu_{\\theta^{\\prime}}(s_{t+1})) \\right) \\right)^2 \\right] $\n",
    "- Optimize $ \\theta $ to maximize $Q_{\\phi_1}(s, \\mu_{\\theta}(s))$\n",
    "\n",
    "And update target parameters as follows :\n",
    "\n",
    "- $ \\phi_1^{\\prime} = \\tau \\phi_1 + (1-\\tau) \\phi_1^{\\prime} $\n",
    "- $ \\phi_2^{\\prime} = \\tau \\phi_2 + (1-\\tau) \\phi_2^{\\prime} $\n",
    "- $ \\theta^{\\prime} = \\tau \\theta + (1-\\tau) \\theta^{\\prime} $"
   ]
  },
  {
   "cell_type": "markdown",
   "id": "3d36d19c",
   "metadata": {},
   "source": [
    "(1) First, regenerate Q-network and policy network as follows."
   ]
  },
  {
   "cell_type": "code",
   "execution_count": 44,
   "id": "5a00c1e2",
   "metadata": {},
   "outputs": [],
   "source": [
    "q_origin_model1 = QNet().to(device)  # Q_phi1\n",
    "q_origin_model2 = QNet().to(device)  # Q_phi2\n",
    "q_target_model1 = QNet().to(device)  # Q_phi1'\n",
    "q_target_model2 = QNet().to(device)  # Q_phi2'\n",
    "_ = q_target_model1.requires_grad_(False)  # target model doen't need grad\n",
    "_ = q_target_model2.requires_grad_(False)  # target model doen't need grad"
   ]
  },
  {
   "cell_type": "code",
   "execution_count": 45,
   "id": "47433b9d",
   "metadata": {},
   "outputs": [],
   "source": [
    "mu_origin_model = PolicyNet().to(device)  # mu_theta\n",
    "mu_target_model = PolicyNet().to(device)  # mu_theta'\n",
    "_ = mu_target_model.requires_grad_(False)  # target model doen't need grad"
   ]
  },
  {
   "cell_type": "markdown",
   "id": "7a6336f2",
   "metadata": {},
   "source": [
    "(2) Regenerate optimize function."
   ]
  },
  {
   "cell_type": "code",
   "execution_count": 46,
   "id": "c153b163",
   "metadata": {},
   "outputs": [],
   "source": [
    "gamma = 0.99\n",
    "opt_q1 = torch.optim.AdamW(q_origin_model1.parameters(), lr=0.0005)\n",
    "opt_q2 = torch.optim.AdamW(q_origin_model2.parameters(), lr=0.0005)\n",
    "opt_mu = torch.optim.AdamW(mu_origin_model.parameters(), lr=0.0005)\n",
    "\n",
    "def optimize(states, actions, rewards, next_states, dones):\n",
    "    # Convert to tensor\n",
    "    states = torch.tensor(states, dtype=torch.float).to(device)\n",
    "    actions = torch.tensor(actions, dtype=torch.float).to(device)\n",
    "    actions = actions.unsqueeze(dim=1)\n",
    "    rewards = torch.tensor(rewards, dtype=torch.float).to(device)\n",
    "    rewards = rewards.unsqueeze(dim=1)\n",
    "    next_states = torch.tensor(next_states, dtype=torch.float).to(device)\n",
    "    dones = torch.tensor(dones, dtype=torch.float).to(device)\n",
    "    dones = dones.unsqueeze(dim=1)\n",
    "\n",
    "    # Compute r + gamma * (1 - done) * min Q (s_next, mu_target(s_next))\n",
    "    with torch.no_grad():\n",
    "        # Get next actions from target policy network\n",
    "        next_actions = mu_target_model(next_states)\n",
    "        \n",
    "        # Add noise to target actions for smoothing (TD3 specific)\n",
    "        noise = torch.clamp(torch.randn_like(next_actions) * 0.2, -0.5, 0.5)\n",
    "        smoothed_next_actions = torch.clamp(next_actions + noise, -1.0, 1.0)\n",
    "        \n",
    "        # Get Q values from both target Q networks\n",
    "        next_q1_values = q_target_model1(next_states, smoothed_next_actions)\n",
    "        next_q2_values = q_target_model2(next_states, smoothed_next_actions)\n",
    "        \n",
    "        # Take the minimum of the two Q values (clipped double-Q learning)\n",
    "        next_q_values = torch.min(next_q1_values, next_q2_values)\n",
    "        \n",
    "        # Compute target using Bellman equation\n",
    "        target_q = rewards + gamma * (1 - dones) * next_q_values\n",
    "\n",
    "    # Optimize critic loss for Q-network1\n",
    "    current_q1 = q_origin_model1(states, actions)\n",
    "    q1_loss = F.mse_loss(current_q1, target_q)\n",
    "    \n",
    "    opt_q1.zero_grad()\n",
    "    q1_loss.backward()\n",
    "    opt_q1.step()\n",
    "\n",
    "    # Optimize critic loss for Q-network2\n",
    "    current_q2 = q_origin_model2(states, actions)\n",
    "    q2_loss = F.mse_loss(current_q2, target_q)\n",
    "    \n",
    "    opt_q2.zero_grad()\n",
    "    q2_loss.backward()\n",
    "    opt_q2.step()\n",
    "\n",
    "    # Optimize actor loss (delayed policy updates - only update every few steps)\n",
    "    # In TD3, policy updates are typically delayed to occur less frequently than Q-updates\n",
    "    policy_update_freq = 2  # Update policy every 2 critic updates\n",
    "    \n",
    "    if global_step % policy_update_freq == 0:\n",
    "        # Temporarily disable gradient computation for Q-networks\n",
    "        for p in q_origin_model1.parameters():\n",
    "            p.requires_grad = False\n",
    "        \n",
    "        # Compute actor loss (negative of Q1 values for actions from current policy)\n",
    "        policy_actions = mu_origin_model(states)\n",
    "        actor_loss = -q_origin_model1(states, policy_actions).mean()\n",
    "        \n",
    "        # Optimize actor\n",
    "        opt_mu.zero_grad()\n",
    "        actor_loss.backward()\n",
    "        opt_mu.step()\n",
    "        \n",
    "        for p in q_origin_model1.parameters():\n",
    "            p.requires_grad = True  # enable grad again"
   ]
  },
  {
   "cell_type": "markdown",
   "id": "6f2b612e",
   "metadata": {},
   "source": [
    "(3) Regenerate update target's params function."
   ]
  },
  {
   "cell_type": "code",
   "execution_count": 47,
   "id": "827c9418",
   "metadata": {},
   "outputs": [],
   "source": [
    "tau = 0.002\n",
    "\n",
    "def update_target():\n",
    "    for var, var_target in zip(q_origin_model1.parameters(), q_target_model1.parameters()):\n",
    "        var_target.data = tau * var.data + (1.0 - tau) * var_target.data\n",
    "    for var, var_target in zip(q_origin_model2.parameters(), q_target_model2.parameters()):\n",
    "        var_target.data = tau * var.data + (1.0 - tau) * var_target.data\n",
    "    for var, var_target in zip(mu_origin_model.parameters(), mu_target_model.parameters()):\n",
    "        var_target.data = tau * var.data + (1.0 - tau) * var_target.data"
   ]
  },
  {
   "cell_type": "markdown",
   "id": "c4a631fe",
   "metadata": {},
   "source": [
    "(4) Let's start training again !"
   ]
  },
  {
   "cell_type": "code",
   "execution_count": 49,
   "id": "11ae9c8f",
   "metadata": {},
   "outputs": [
    {
     "name": "stdout",
     "output_type": "stream",
     "text": [
      "Run episode1999 with rewards 500.0\n",
      "Done\n"
     ]
    }
   ],
   "source": [
    "# reset noise\n",
    "ou_action_noise = OrnsteinUhlenbeckActionNoise(mu=np.zeros(1), sigma=np.ones(1) * 0.05)\n",
    "\n",
    "# reset buffer\n",
    "buffer = replayBuffer(buffer_size=50000)\n",
    "\n",
    "# Define global step counter for delayed policy updates\n",
    "global_step = 0\n",
    "\n",
    "# start training\n",
    "batch_size = 250\n",
    "reward_records = []\n",
    "for i in range(2000):\n",
    "    # Run episode till done\n",
    "    s = env.reset()\n",
    "    done = False\n",
    "    cum_reward = 0\n",
    "    while not done:\n",
    "        a = pick_sample(s)\n",
    "        s_next, r, term, trunc, _ = env.step(a)\n",
    "        done = term or trunc\n",
    "        buffer.add([s, a, r, s_next, float(term)])  # (see above note for truncation)\n",
    "        cum_reward += r\n",
    "\n",
    "        # Train (optimize parameters)\n",
    "        if buffer.length() >= batch_size:\n",
    "            states, actions, rewards, n_states, dones = buffer.sample(batch_size)\n",
    "            optimize(states, actions, rewards, n_states, dones)\n",
    "            update_target()\n",
    "            global_step += 1  # Increment global step for delayed policy updates\n",
    "        s = s_next\n",
    "\n",
    "    # Output total rewards in episode (max 500)\n",
    "    print(\"Run episode{} with rewards {}\".format(i, cum_reward), end=\"\\r\")\n",
    "    reward_records.append(cum_reward)\n",
    "\n",
    "    # stop if reward mean > 475.0\n",
    "    if np.average(reward_records[-50:]) > 475.0:\n",
    "        break\n",
    "\n",
    "print(\"\\nDone\")"
   ]
  },
  {
   "cell_type": "code",
   "execution_count": 50,
   "id": "107f6795",
   "metadata": {},
   "outputs": [
    {
     "data": {
      "text/plain": [
       "Text(0, 0.5, 'Total Reward')"
      ]
     },
     "execution_count": 50,
     "metadata": {},
     "output_type": "execute_result"
    },
    {
     "data": {
      "image/png": "[encoded data removed]",
      "text/plain": [
       "<Figure size 640x480 with 1 Axes>"
      ]
     },
     "metadata": {},
     "output_type": "display_data"
    }
   ],
   "source": [
    "import matplotlib.pyplot as plt\n",
    "# Generate recent 50 interval average\n",
    "average_reward = []\n",
    "for idx in range(len(reward_records)):\n",
    "    avg_list = np.empty(shape=(1,), dtype=int)\n",
    "    if idx < 50:\n",
    "        avg_list = reward_records[:idx+1]\n",
    "    else:\n",
    "        avg_list = reward_records[idx-49:idx+1]\n",
    "    average_reward.append(np.average(avg_list))\n",
    "plt.plot(reward_records)\n",
    "plt.plot(average_reward)\n",
    "plt.title(\"TD3 Leearning Curve\")\n",
    "plt.xlabel(\"Episode\")\n",
    "plt.ylabel(\"Total Reward\")"
   ]
  },
  {
   "cell_type": "markdown",
   "id": "b8f97091-ebd0-46aa-a340-746b83a66884",
   "metadata": {},
   "source": [
    "## EXTRA CREDIT: SAC (Soft Actor-Critic)\n",
    "\n",
    "SAC (Soft Actor-Critic) is one of today's popular algorithm, which is based on **off-policy** DDPG. However, unlike DDPG, SAC applies entropy regularization and trains a stochastic policy, not a deterministic policy.\n",
    "\n",
    "Entropy is defined as $ H(P) = -\\int P(x) \\log P(x) = E_x[-\\log P(x)] $ and it means how $ P(\\cdot) $ is distributed intuitively.<br>\n",
    "For instance, if it has 8 possible states, each of which is equally likely in discrete distribution, it will have $ H(P) = -\\sum P(x) \\log P(x) = -8 \\times \\frac{1}{8} \\log_2 \\frac{1}{8} = 3 $. (This implies that it needs 3 bits evenly.) If the distribution is $ (\\frac{1}{2}, \\frac{1}{4}, \\frac{1}{8}, \\frac{1}{16}, \\frac{1}{64}, \\frac{1}{64}, \\frac{1}{64}, \\frac{1}{64}) $, it will have $ H(P) = -\\frac{1}{2} \\log_2 \\frac{1}{2} - \\frac{1}{4} \\log_2 \\frac{1}{4} - \\frac{1}{8} \\log_2 \\frac{1}{8} - \\frac{1}{16} \\log_2 \\frac{1}{16} - 4 \\times \\frac{1}{64} \\log_2 \\frac{1}{64} = 2 $.<br>\n",
    "(Note that, for simplicity, I have replaced the base e of logarithm with 2.)<br>\n",
    "\n",
    "As you can see above, entropy will be larger, when the distribution has much randomness.\n",
    "\n",
    "In SAC, instead of using a reward expectation $ r_t + \\gamma (d_t - 1) Q_{{\\phi}^{\\prime}} $ used in DDPG, it applies $ r_t + \\gamma (d_t - 1) (Q_{{\\phi}^{\\prime}} + \\alpha H(P)) $ (where $\\alpha$ is a coefficient parameter for entropy weight, called entropy temperature) in order to balance between exploitation and exploration.<br>\n",
    "Even if the estimated Q-value increases, it might be rejected when the entropy is largely reduced."
   ]
  },
  {
   "cell_type": "code",
   "execution_count": 51,
   "id": "e4eb0a5e-7373-4eb7-b52e-8f019ecfb26e",
   "metadata": {},
   "outputs": [],
   "source": [
    "import random\n",
    "import gymnasium as gym\n",
    "import numpy as np\n",
    "import torch\n",
    "import torch.nn as nn\n",
    "from torch.nn import functional as F"
   ]
  },
  {
   "cell_type": "markdown",
   "id": "f3675ffd-4fb7-4dfa-ac26-9a0c9ba74980",
   "metadata": {},
   "source": [
    "In order to prevent from overflows, I apply double precision for float operations."
   ]
  },
  {
   "cell_type": "code",
   "execution_count": 52,
   "id": "7392bd5d-ed38-4235-a2f4-38bd6d67ffc2",
   "metadata": {},
   "outputs": [],
   "source": [
    "torch.set_default_dtype(torch.float64)"
   ]
  },
  {
   "cell_type": "markdown",
   "id": "73981508-dce9-4846-b529-552e103d7059",
   "metadata": {},
   "source": [
    "Unlike DDPG, we can use discrete action space in SAC. (See below for this reason.)<br>\n",
    "We then now use standard CartPole agent in Gymnasium."
   ]
  },
  {
   "cell_type": "code",
   "execution_count": 53,
   "id": "77e444c0-a1b8-43ed-86cb-d6b6b73f5e96",
   "metadata": {},
   "outputs": [],
   "source": [
    "env = gym.make(\"CartPole-v1\")"
   ]
  },
  {
   "cell_type": "markdown",
   "id": "e5e63fb1-3ad1-4e11-87f3-5698f232b3eb",
   "metadata": {},
   "source": [
    "Unlike DDPG, SAC trains a stochastic policy $ \\pi_{\\theta}(\\cdot) $ (where $ \\theta $ is parameters) instead of a deterministic policy $ \\mu_{\\theta}(\\cdot) $. (And we don't use target policy network $ \\pi_{\\theta^{\\prime}} $.)<br>\n",
    "In this example, I use categorical distribution (same as, used in PG and PPO example) for a policy $ P(\\cdot | \\pi_\\theta(s)) $, because it's discrete action space:\n",
    "\n",
    "Because we use a stochastic policy, we don't then need Ornstein-Uhlenbeck noise used in DDPG any more."
   ]
  },
  {
   "cell_type": "code",
   "execution_count": 54,
   "id": "022a3b91-e249-4cc2-b6f0-4788523fc4c5",
   "metadata": {},
   "outputs": [],
   "source": [
    "device = torch.device(\"cuda\" if torch.cuda.is_available() else \"cpu\")\n",
    "\n",
    "# Policy net (pi_theta)\n",
    "class PolicyNet(nn.Module):\n",
    "    def __init__(self, hidden_dim=64):\n",
    "        super().__init__()\n",
    "\n",
    "        self.hidden = nn.Linear(4, hidden_dim)\n",
    "        self.output = nn.Linear(hidden_dim, 2)\n",
    "\n",
    "    def forward(self, s):\n",
    "        outs = self.hidden(s)\n",
    "        outs = F.relu(outs)\n",
    "        outs = self.output(outs)\n",
    "        return outs\n",
    "\n",
    "pi_model = PolicyNet().to(device)\n",
    "\n",
    "# Pick up action (for each step in episode)\n",
    "def pick_sample(s):\n",
    "    with torch.no_grad():\n",
    "        #   --> size : (1, 4)\n",
    "        s_batch = np.expand_dims(s, axis=0)\n",
    "        s_batch = torch.tensor(s_batch, dtype=torch.float64).to(device)\n",
    "        # Get logits from state\n",
    "        #   --> size : (1, 2)\n",
    "        logits = pi_model(s_batch)\n",
    "        #   --> size : (2)\n",
    "        logits = logits.squeeze(dim=0)\n",
    "        # From logits to probabilities\n",
    "        probs = F.softmax(logits, dim=-1)\n",
    "        # Pick up action's sample\n",
    "        #   --> size : (1)\n",
    "        a = torch.multinomial(probs, num_samples=1)\n",
    "        #   --> size : ()\n",
    "        a = a.squeeze(dim=0)\n",
    "        # Return\n",
    "        return a.tolist()"
   ]
  },
  {
   "cell_type": "markdown",
   "id": "f6149757-f5f7-4fe6-b7a2-e21c9d4c2ef8",
   "metadata": {},
   "source": [
    "Same as clipped double-Q (twin-Q) DDPG method, we use 2 Q-networks - $ Q_{\\phi_1}(s), Q_{\\phi_2}(s) $ - and corresponding 2 target networks - $ Q_{\\phi_1^{\\prime}}(s), Q_{\\phi_2^{\\prime}}(s) $.\n",
    "\n",
    "You will find that this is different from the one used in DDPG. (In DDPG, we have used $Q(s, a)$.)<br>\n",
    "For categorical distribution with the depth n (in this example, n=2), the output of $ Q(\\cdot) $ is n-dimensional tensor, in which each element represents the expectation of Q-value for the corresponding action. And we then use $ Q(s) \\cdot \\tilde{a} $ (i.e, dot product operation) instead of $ Q(s, a) $, where $ \\tilde{a} $ is one hot tensor for action $ a $.<br>\n",
    "Because of this reason, we use $Q(s)$ instead of $Q(s, a)$."
   ]
  },
  {
   "cell_type": "code",
   "execution_count": 55,
   "id": "fc87b7c5-c2d8-4ffe-819c-b98ba2234b2d",
   "metadata": {},
   "outputs": [],
   "source": [
    "class QNet(nn.Module):\n",
    "    def __init__(self, hidden_dim=64):\n",
    "        super().__init__()\n",
    "\n",
    "        self.hidden = nn.Linear(4, hidden_dim)\n",
    "        self.output = nn.Linear(hidden_dim, 2)\n",
    "\n",
    "    def forward(self, s):\n",
    "        outs = self.hidden(s)\n",
    "        outs = F.relu(outs)\n",
    "        outs = self.output(outs)\n",
    "        return outs\n",
    "\n",
    "q_origin_model1 = QNet().to(device)  # Q_phi1\n",
    "q_origin_model2 = QNet().to(device)  # Q_phi2\n",
    "q_target_model1 = QNet().to(device)  # Q_phi1'\n",
    "q_target_model2 = QNet().to(device)  # Q_phi2'\n",
    "_ = q_target_model1.requires_grad_(False)  # target model doen't need grad\n",
    "_ = q_target_model2.requires_grad_(False)  # target model doen't need grad"
   ]
  },
  {
   "cell_type": "markdown",
   "id": "8b2761e5-042e-45de-8a20-32eb0206ea7b",
   "metadata": {},
   "source": [
    "As we saw in clipped double-Q DDPG, we optimize policy parameter $ \\theta $ to maximize $ Q_{\\phi_1}(s, a^*) + \\alpha H(P(\\cdot | \\pi_\\theta(s))) $ where $ a^* $ is an optimal action.\n",
    "\n",
    "As I have mentioned above, $ H(P) = E_x[-\\log P(x)] $.<br>\n",
    "In this categorical distribution (in discrete action space), $ H $ will then be the following dot product :\n",
    "\n",
    "$ H(P) = H(P(\\cdot | \\pi_\\theta(s))) = -\\pi_\\theta(s) \\cdot \\log \\pi_\\theta(s) $\n",
    "\n",
    "where $ \\pi_\\theta(s) $ is one hot probability.\n",
    "\n",
    "For $ Q(s, a^*) $ term, it will become the following dot product. (See above for this reason.) :\n",
    "\n",
    "$ Q_{\\phi_1}(s, a^*) = Q_{\\phi_1}(s) \\cdot \\pi_\\theta(s) $\n",
    "\n",
    "To summarize, we should optimize $ \\theta $ to maximize :\n",
    "\n",
    "$ E\\left[ \\pi_\\theta(s) \\cdot Q_{\\phi_1}(s) - \\alpha \\pi_\\theta(s) \\cdot \\log \\pi_\\theta(s) \\right] = E\\left[ \\pi_\\theta(s) \\cdot (Q_{\\phi_1}(s) - \\alpha \\log \\pi_\\theta(s)) \\right] $"
   ]
  },
  {
   "cell_type": "code",
   "execution_count": 56,
   "id": "eb5bf9d1-3689-4d71-89e4-b3a1f5788031",
   "metadata": {},
   "outputs": [],
   "source": [
    "alpha = 0.1\n",
    "\n",
    "opt_pi = torch.optim.AdamW(pi_model.parameters(), lr=0.0005)\n",
    "\n",
    "class categorical:\n",
    "    def __init__(self, s):\n",
    "        logits = pi_model(s)\n",
    "        self._prob = F.softmax(logits, dim=-1)\n",
    "        self._logp = torch.log(self._prob)\n",
    "\n",
    "    # probability (sum is 1.0) : P\n",
    "    def prob(self):\n",
    "        return self._prob\n",
    "\n",
    "    # log probability : log P()\n",
    "    def logp(self):\n",
    "        return self._logp\n",
    "\n",
    "def optimize_theta(states):\n",
    "    # Convert to tensor\n",
    "    states = torch.tensor(states, dtype=torch.float64).to(device)\n",
    "    # Disable grad in q_origin_model1 before computation\n",
    "    # (or use q_value.detach() not to include in graph)\n",
    "    for p in q_origin_model1.parameters():\n",
    "        p.requires_grad = False\n",
    "    # Optimize\n",
    "    opt_pi.zero_grad()\n",
    "    dist = categorical(states)\n",
    "    q_value = q_origin_model1(states)\n",
    "    term1 = dist.prob()\n",
    "    term2 = q_value - alpha * dist.logp()\n",
    "    expectation = term1.unsqueeze(dim=1) @ term2.unsqueeze(dim=2)\n",
    "    expectation = expectation.squeeze(dim=1)\n",
    "    (-expectation).sum().backward()\n",
    "    opt_pi.step()\n",
    "    # Enable grad again\n",
    "    for p in q_origin_model1.parameters():\n",
    "        p.requires_grad = True"
   ]
  },
  {
   "cell_type": "markdown",
   "id": "c5a2841f-9d83-4738-b0c6-4294c30a9a02",
   "metadata": {},
   "source": [
    "Same as we saw in clipped double-Q DDPG, we optimize parameter $ \\phi_1, \\phi_2 $ as follows :\n",
    "\n",
    "- Optimize $ \\phi_1 $ to minimize $ E\\left[ \\left( Q_{\\phi_1}(s_t, a_t) - \\left( r_t + \\gamma (1 - d_t) \\left( \\min_{i=1,2} Q_{{\\phi_i}^{\\prime}}(s_{t+1},a^*_{t+1}) + \\alpha H(P(\\cdot | \\pi_\\theta(s_{t+1}))) \\right) \\right) \\right)^2 \\right] $\n",
    "- Optimize $ \\phi_2 $ to minimize $ E\\left[ \\left( Q_{\\phi_2}(s_t, a_t) - \\left( r_t + \\gamma (1 - d_t) \\left( \\min_{i=1,2} Q_{{\\phi_i}^{\\prime}}(s_{t+1},a^*_{t+1}) + \\alpha H(P(\\cdot | \\pi_\\theta(s_{t+1}))) \\right) \\right) \\right)^2 \\right] $\n",
    "\n",
    "in which :\n",
    "\n",
    "- $ Q_{\\phi_i}(s_t, a_t) = Q_{\\phi_i}(s_t) \\cdot \\tilde{a_t} $ where $ \\tilde{a_t} $ is one hot vector of $ a_t $\n",
    "- $ Q_{{\\phi_i}^{\\prime}}(s_{t+1},a^*_{t+1}) =  Q_{\\phi_i^{\\prime}}(s_{t+1}) \\cdot \\pi_\\theta(s_{t+1}) $ where $ \\pi_\\theta(s_{t+1}) $ is one hot probability\n",
    "- $ H(P(\\cdot | \\pi_\\theta(s_{t+1}))) = -\\pi_\\theta(s_{t+1}) \\cdot \\log \\pi_\\theta(s_{t+1}) $"
   ]
  },
  {
   "cell_type": "code",
   "execution_count": 57,
   "id": "6d2a435a-deb9-4bbc-b9e6-08fa463b9433",
   "metadata": {},
   "outputs": [],
   "source": [
    "gamma = 0.99\n",
    "\n",
    "opt_q1 = torch.optim.AdamW(q_origin_model1.parameters(), lr=0.0005)\n",
    "opt_q2 = torch.optim.AdamW(q_origin_model2.parameters(), lr=0.0005)\n",
    "\n",
    "def optimize_phi(states, actions, rewards, next_states, dones):\n",
    "    #\n",
    "    # Convert to tensor\n",
    "    #\n",
    "    states = torch.tensor(states, dtype=torch.float64).to(device)\n",
    "    actions = torch.tensor(actions, dtype=torch.int64).to(device)\n",
    "    rewards = torch.tensor(rewards, dtype=torch.float64).to(device)\n",
    "    rewards = rewards.unsqueeze(dim=1)\n",
    "    next_states = torch.tensor(next_states, dtype=torch.float64).to(device)\n",
    "    dones = torch.tensor(dones, dtype=torch.float64).to(device)\n",
    "    dones = dones.unsqueeze(dim=1)\n",
    "\n",
    "    # Compute r + gamma * (1 - d) (min Q(s_next,a_next') + alpha * H(P))\n",
    "    with torch.no_grad():\n",
    "        # min Q(s_next,a_next')\n",
    "        q1_tgt_next = q_target_model1(next_states)\n",
    "        q2_tgt_next = q_target_model2(next_states)\n",
    "        dist_next = categorical(next_states)\n",
    "        q1_target = q1_tgt_next.unsqueeze(dim=1) @ dist_next.prob().unsqueeze(dim=2)\n",
    "        q1_target = q1_target.squeeze(dim=1)\n",
    "        q2_target = q2_tgt_next.unsqueeze(dim=1) @ dist_next.prob().unsqueeze(dim=2)\n",
    "        q2_target = q2_target.squeeze(dim=1)\n",
    "        q_target_min = torch.minimum(q1_target, q2_target)\n",
    "        # alpha * H(P)\n",
    "        h = dist_next.prob().unsqueeze(dim=1) @ dist_next.logp().unsqueeze(dim=2)\n",
    "        h = h.squeeze(dim=1)\n",
    "        h = -alpha * h\n",
    "        # total\n",
    "        term2 = rewards + gamma * (1.0 - dones) * (q_target_min + h)\n",
    "\n",
    "    # Optimize critic loss for Q-network1\n",
    "    q1_pred = q_origin_model1(states)\n",
    "    # Create one-hot encoding for actions\n",
    "    actions_one_hot = F.one_hot(actions, num_classes=2).to(torch.float64)\n",
    "    # Get Q-values for taken actions\n",
    "    q1_sa = torch.sum(q1_pred * actions_one_hot, dim=1, keepdim=True)\n",
    "    \n",
    "    # Compute critic loss for Q-network1\n",
    "    q1_loss = F.mse_loss(q1_sa, term2)\n",
    "    \n",
    "    # Optimize Q-network1\n",
    "    opt_q1.zero_grad()\n",
    "    q1_loss.backward()\n",
    "    opt_q1.step()\n",
    "\n",
    "    # Optimize critic loss for Q-network2\n",
    "    q2_pred = q_origin_model2(states)\n",
    "    # Get Q-values for taken actions\n",
    "    q2_sa = torch.sum(q2_pred * actions_one_hot, dim=1, keepdim=True)\n",
    "    \n",
    "    # Compute critic loss for Q-network2\n",
    "    q2_loss = F.mse_loss(q2_sa, term2)\n",
    "    \n",
    "    # Optimize Q-network2\n",
    "    opt_q2.zero_grad()\n",
    "    q2_loss.backward()\n",
    "    opt_q2.step()\n"
   ]
  },
  {
   "cell_type": "markdown",
   "id": "9f68b9d5-b221-4701-a434-e92fc70c2505",
   "metadata": {},
   "source": [
    "As we saw in TD3, target parameters $\\phi_1^{\\prime}, \\phi_2^{\\prime}$ are delayed with coefficient parameter (hyper-parameter) $ \\tau $."
   ]
  },
  {
   "cell_type": "code",
   "execution_count": 58,
   "id": "9f364208-35d8-4913-8228-da0ca450a589",
   "metadata": {},
   "outputs": [],
   "source": [
    "tau = 0.002\n",
    "\n",
    "def update_target():\n",
    "    for var, var_target in zip(q_origin_model1.parameters(), q_target_model1.parameters()):\n",
    "        var_target.data = tau * var.data + (1.0 - tau) * var_target.data\n",
    "    for var, var_target in zip(q_origin_model2.parameters(), q_target_model2.parameters()):\n",
    "        var_target.data = tau * var.data + (1.0 - tau) * var_target.data"
   ]
  },
  {
   "cell_type": "markdown",
   "id": "36261c15-b403-4fdc-8700-b75f4da989b9",
   "metadata": {},
   "source": [
    "As we saw in DDPG, we use replay buffer to prevent from learning only for recent experiences."
   ]
  },
  {
   "cell_type": "code",
   "execution_count": 59,
   "id": "790c7602-3a0e-444d-b009-ce1ce286348a",
   "metadata": {},
   "outputs": [],
   "source": [
    "class replayBuffer:\n",
    "    def __init__(self, buffer_size: int):\n",
    "        self.buffer_size = buffer_size\n",
    "        self.buffer = []\n",
    "\n",
    "    def add(self, item):\n",
    "        if len(self.buffer) == self.buffer_size:\n",
    "            self.buffer.pop(0)\n",
    "        self.buffer.append(item)\n",
    "\n",
    "    def sample(self, batch_size):\n",
    "        items = random.sample(self.buffer, batch_size)\n",
    "        states   = [i[0] for i in items]\n",
    "        actions  = [i[1] for i in items]\n",
    "        rewards  = [i[2] for i in items]\n",
    "        n_states = [i[3] for i in items]\n",
    "        dones    = [i[4] for i in items]\n",
    "        return states, actions, rewards, n_states, dones\n",
    "\n",
    "    def length(self):\n",
    "        return len(self.buffer)\n",
    "\n",
    "buffer = replayBuffer(20000)"
   ]
  },
  {
   "cell_type": "markdown",
   "id": "02ba6fa1-4d2c-4ef1-9d6c-6c86a28a28fd",
   "metadata": {},
   "source": [
    "Now let's put it all together !"
   ]
  },
  {
   "cell_type": "code",
   "execution_count": 60,
   "id": "036ab1f7-752b-413a-8b83-372db76fc6ab",
   "metadata": {},
   "outputs": [
    {
     "name": "stdout",
     "output_type": "stream",
     "text": [
      "Run episode759 with rewards 500.0\n",
      "Done\n"
     ]
    }
   ],
   "source": [
    "batch_size = 250\n",
    "\n",
    "reward_records = []\n",
    "for i in range(2000):\n",
    "    # Run episode till done\n",
    "    s, _ = env.reset()\n",
    "    done = False\n",
    "    cum_reward = 0\n",
    "    while not done:\n",
    "        a = pick_sample(s)\n",
    "        s_next, r, term, trunc, _ = env.step(a)\n",
    "        done = term or trunc\n",
    "        buffer.add([s.tolist(), a, r, s_next.tolist(), float(term)])\n",
    "        cum_reward += r\n",
    "        if buffer.length() >= batch_size:\n",
    "            states, actions, rewards, n_states, dones = buffer.sample(batch_size)\n",
    "            optimize_theta(states)\n",
    "            optimize_phi(states, actions, rewards, n_states, dones)\n",
    "            update_target()\n",
    "        s = s_next\n",
    "\n",
    "    # Output total rewards in episode (max 500)\n",
    "    print(\"Run episode{} with rewards {}\".format(i, cum_reward), end=\"\\r\")\n",
    "    reward_records.append(cum_reward)\n",
    "\n",
    "    # stop if reward mean > 475.0\n",
    "    if np.average(reward_records[-50:]) > 475.0:\n",
    "        break\n",
    "\n",
    "env.close()\n",
    "print(\"\\nDone\")"
   ]
  },
  {
   "cell_type": "code",
   "execution_count": 61,
   "id": "d833bd22-27c3-4053-8a74-05c106ed0352",
   "metadata": {
    "scrolled": true
   },
   "outputs": [
    {
     "data": {
      "text/plain": [
       "Text(0, 0.5, 'Total Reward')"
      ]
     },
     "execution_count": 61,
     "metadata": {},
     "output_type": "execute_result"
    },
    {
     "data": {
      "image/png": "[encoded data removed]",
      "text/plain": [
       "<Figure size 640x480 with 1 Axes>"
      ]
     },
     "metadata": {},
     "output_type": "display_data"
    }
   ],
   "source": [
    "import matplotlib.pyplot as plt\n",
    "# Generate recent 50 interval average\n",
    "average_reward = []\n",
    "for idx in range(len(reward_records)):\n",
    "    avg_list = np.empty(shape=(1,), dtype=int)\n",
    "    if idx < 50:\n",
    "        avg_list = reward_records[:idx+1]\n",
    "    else:\n",
    "        avg_list = reward_records[idx-49:idx+1]\n",
    "    average_reward.append(np.average(avg_list))\n",
    "plt.plot(reward_records)\n",
    "plt.plot(average_reward)\n",
    "plt.title(\"SAC Learning Curve\")\n",
    "plt.xlabel(\"Episode\")\n",
    "plt.ylabel(\"Total Reward\")"
   ]
  },
  {
   "cell_type": "markdown",
   "id": "c99ced0e-92ad-486f-9952-c149a9fe5303",
   "metadata": {},
   "source": [
    "## Extra Credit: PPO (Proximal Policy Optimization)\n",
    "\n",
    "Proximal Policy Optimization (PPO) is one of successful algorithms in today's reinforcement learning.\n",
    "\n",
    "PPO is an algorithm that optimizes stochastic policy in on-policy way. However, in order to avoid the loss of performance, PPO algorithm prevents the update from stepping so far.<br>\n",
    "To prevent large updates in PPO algorithm, there are two variants: PPO-Penalty and PPO-Clip. In this example, we'll focus on PPO-Penalty which is widely used in practical works.\n",
    "\n",
    "The algorithm will learn policy parameters $ \\theta $ with advantages $ A $.<br>\n",
    "When we assume that the agent takes large advantage $ A $ on action $ a $, $ P(a | \\pi_\\theta (s)) $ must be increased much more than $ P(a | \\pi_{\\theta_{old}} (s)) $, with new parameters $ \\theta $.<br>\n",
    "Hence you can expect new $ \\theta $ as follows to optimize policy. :\n",
    "\n",
    "$$ \\max_{\\theta} E \\left[ \\frac{P(a | \\pi_\\theta (s))}{P(a | \\pi_{\\theta_{old}} (s))} A \\right] $$\n",
    "\n",
    "In order to prevent large policy updates, PPO penaltizes for this expectation as follows :\n",
    "\n",
    "$$ \\max_{\\theta} E \\left[ \\frac{P(a | \\pi_\\theta (s))}{P(a | \\pi_{\\theta_{old}} (s))} A - \\beta \\cdot \\verb|penalty| \\right] $$\n",
    "\n",
    "where $ \\beta $ is the coefficient for the weight of penalty.\n",
    "\n",
    "In PPO-Penalty, KL-divergence is used for this penalty term. :\n",
    "\n",
    "$$ \\verb|penalty| := \\verb|KL| \\left( P(\\cdot | \\pi_{\\theta_{old}} (s)) \\| P(\\cdot | \\pi_\\theta (s)) \\right) $$\n",
    "\n",
    "Now I briefly explain about KL-divergence (Kullback-Leibler divergence).<br>\n",
    "We assume that both $ P(x) $ and $ Q(x) $ are stochastic distributions. KL-divergence $\\verb|KL|( P \\| Q )$ is then defined as follows and often used in information theory, such as, approximate inference.\n",
    "\n",
    "$$ \\verb|KL|( P \\| Q ) := -\\int{P(x) \\ln{\\frac{Q(x)}{P(X)}}}dx $$\n",
    "\n",
    "By this definition, $ \\verb|KL|( P \\| Q ) $ will be always positive or zero, and zero if and only if both distributions are same.<br>\n",
    "This means that $ \\verb|KL|( P \\| Q ) $ indicates how far between these distributions, $ P $ and $ Q $. If $ Q $ is so far from $ P $, $ \\verb|KL|( P \\| Q ) $ will become largely positive.\n",
    "\n",
    "Now go back to our equation. In order to penaltize for large update between $ P(\\cdot | \\pi_{\\theta_{old}} (s)) $ and $ P(\\cdot | \\pi_\\theta (s)) $, we look for the optimal parameters $ \\theta $, such as :\n",
    "\n",
    "$$ \\max_{\\theta} E \\left[ \\frac{P(a | \\pi_\\theta (s))}{P(a | \\pi_{\\theta_{old}} (s))} A - \\beta \\cdot \\verb|KL| \\left( P(\\cdot | \\pi_{\\theta_{old}} (s)) \\| P(\\cdot | \\pi_\\theta (s)) \\right) \\right]  \\;\\;\\;\\;\\; (1) $$\n",
    "\n",
    "Even if the first term $ \\frac{P(a | \\pi_\\theta (s))}{P(a | \\pi_{\\theta_{old}} (s))} A $ largely increases, new $ \\theta $ might be rejected when the difference between $ P(\\cdot | \\pi_{\\theta_{old}} (s)) $ and $ P(\\cdot | \\pi_\\theta (s)) $ is so large.\n",
    "\n",
    "Finally we optimize policy function by maximizing (1), and optimize value function by minimizing value loss."
   ]
  },
  {
   "cell_type": "code",
   "execution_count": 68,
   "id": "38fd773a-3d10-4d7f-910e-fc46e59bf46d",
   "metadata": {},
   "outputs": [],
   "source": [
    "import gymnasium as gym\n",
    "import numpy as np\n",
    "import torch\n",
    "import torch.nn as nn\n",
    "from torch.nn import functional as F"
   ]
  },
  {
   "cell_type": "code",
   "execution_count": 69,
   "id": "e0ff5455-6dfa-4f76-ac2b-0bdc48e6adc3",
   "metadata": {},
   "outputs": [],
   "source": [
    "device = torch.device(\"cuda\" if torch.cuda.is_available() else \"cpu\")\n",
    "\n",
    "class ActorNet(nn.Module):\n",
    "    def __init__(self, hidden_dim=16):\n",
    "        super().__init__()\n",
    "\n",
    "        self.hidden = nn.Linear(4, hidden_dim)\n",
    "        self.output = nn.Linear(hidden_dim, 2)\n",
    "\n",
    "    def forward(self, s):\n",
    "        outs = self.hidden(s)\n",
    "        outs = F.relu(outs)\n",
    "        logits = self.output(outs)\n",
    "        return logits\n",
    "\n",
    "class ValueNet(nn.Module):\n",
    "    def __init__(self, hidden_dim=16):\n",
    "        super().__init__()\n",
    "\n",
    "        self.hidden = nn.Linear(4, hidden_dim)\n",
    "        self.output = nn.Linear(hidden_dim, 1)\n",
    "\n",
    "    def forward(self, s):\n",
    "        outs = self.hidden(s)\n",
    "        outs = F.relu(outs)\n",
    "        value = self.output(outs)\n",
    "        return value\n",
    "\n",
    "actor_func = ActorNet().to(device)\n",
    "value_func = ValueNet().to(device)"
   ]
  },
  {
   "cell_type": "markdown",
   "id": "8b9cb2c0-ee47-4e75-a6e4-441d0ee8de90",
   "metadata": {},
   "source": [
    "As I have mentioned above, we optimize policy function (actor) by maximizing (1), and optimize value function (critic) by minimizing value loss.\n",
    "\n",
    "Instead of maximizing $ \\frac{P(a | \\theta_{new})}{P(a | \\theta_{old})} A - \\beta \\cdot \\verb|KL| \\left( P(\\theta_{old}) \\| P(\\theta_{new}) \\right) $ and minimizing value loss $L$, here we simply minimize the following total loss value :\n",
    "\n",
    "$$ (-1) \\frac{P(a | \\theta_{new})}{P(a | \\theta_{old})} A + \\beta \\cdot \\verb|KL| \\left( P(\\theta_{old}) \\| P(\\theta_{new}) \\right) + L $$\n",
    "\n",
    "In this example, both $P$ and $Q$ are discrete (categorical distribution), and KL-divergence is then :\n",
    "\n",
    "$$ \\verb|KL| \\left( P(\\theta_{old}) \\| P(\\theta_{new}) \\right) = -\\sum_a \\left( P(a | \\theta_{old}) \\ln{\\frac{P(a | \\theta_{new})}{P(a | \\theta_{old})}} \\right) $$"
   ]
  },
  {
   "cell_type": "code",
   "execution_count": 73,
   "id": "aa9ee77d-3ac3-4055-a4df-4a04a682e226",
   "metadata": {},
   "outputs": [
    {
     "name": "stdout",
     "output_type": "stream",
     "text": [
      "Run episode3092 with rewards 500.0\n",
      "Done\n"
     ]
    }
   ],
   "source": [
    "gamma = 0.99    # discount\n",
    "\n",
    "# These coefficients are experimentally determined in practice.\n",
    "kl_coeff = 0.20  # weight coefficient for KL-divergence loss\n",
    "vf_coeff = 0.50  # weight coefficient for value loss\n",
    "\n",
    "# Pick up action and following properties for state (s)\n",
    "# Return :\n",
    "#     action (int)       action\n",
    "#     logits (list[int]) logits defining categorical distribution\n",
    "#     logprb (float)     log probability\n",
    "def pick_sample_and_logp(s):\n",
    "    with torch.no_grad():\n",
    "        #   --> size : (1, 4)\n",
    "        s_batch = np.expand_dims(s, axis=0)\n",
    "        s_batch = torch.tensor(s_batch, dtype=torch.float64).to(device)        # Get logits from state\n",
    "        #   --> size : (1, 2)\n",
    "        logits = actor_func(s_batch)\n",
    "        #   --> size : (2)\n",
    "        logits = logits.squeeze(dim=0)\n",
    "        # From logits to probabilities\n",
    "        probs = F.softmax(logits, dim=-1)\n",
    "        # Pick up action's sample\n",
    "        #   --> size : (1)\n",
    "        a = torch.multinomial(probs, num_samples=1)\n",
    "        #   --> size : ()\n",
    "        a = a.squeeze(dim=0)\n",
    "        # Calculate log probability\n",
    "        logprb = -F.cross_entropy(logits, a, reduction=\"none\")\n",
    "\n",
    "        # Return\n",
    "        return a.tolist(), logits.tolist(), logprb.tolist()\n",
    "\n",
    "env = gym.make(\"CartPole-v1\")\n",
    "reward_records = []\n",
    "all_params = list(actor_func.parameters()) + list(value_func.parameters())\n",
    "opt = torch.optim.AdamW(all_params, lr=0.0005)\n",
    "for i in range(5000):\n",
    "    #\n",
    "    # Run episode till done\n",
    "    #\n",
    "    done = False\n",
    "    states = []\n",
    "    actions = []\n",
    "    logits = []\n",
    "    logprbs = []\n",
    "    rewards = []\n",
    "    s, _ = env.reset()\n",
    "    while not done:\n",
    "        states.append(s.tolist())\n",
    "        a, l, p = pick_sample_and_logp(s)\n",
    "        s, r, term, trunc, _ = env.step(a)\n",
    "        done = term or trunc\n",
    "        actions.append(a)\n",
    "        logits.append(l)\n",
    "        logprbs.append(p)\n",
    "        rewards.append(r)\n",
    "\n",
    "    #\n",
    "    # Get cumulative rewards\n",
    "    #\n",
    "    cum_rewards = np.zeros_like(rewards)\n",
    "    reward_len = len(rewards)\n",
    "    for j in reversed(range(reward_len)):\n",
    "        cum_rewards[j] = rewards[j] + (cum_rewards[j+1]*gamma if j+1 < reward_len else 0)\n",
    "\n",
    "    #\n",
    "    # Train (optimize parameters)\n",
    "    #\n",
    "    opt.zero_grad()\n",
    "    # Convert to tensor (all with consistent dtype)\n",
    "    states = torch.tensor(states, dtype=torch.float64).to(device)\n",
    "    actions = torch.tensor(actions, dtype=torch.int64).to(device)\n",
    "    logits_old = torch.tensor(logits, dtype=torch.float64).to(device)\n",
    "    logprbs = torch.tensor(logprbs, dtype=torch.float64).to(device)\n",
    "    logprbs = logprbs.unsqueeze(dim=1)\n",
    "    cum_rewards = torch.tensor(cum_rewards, dtype=torch.float64).to(device)\n",
    "    cum_rewards = cum_rewards.unsqueeze(dim=1)\n",
    "\n",
    "    # Get values and logits with new parameters\n",
    "    values_new = value_func(states)\n",
    "    logits_new = actor_func(states)    # Get advantages\n",
    "    advantages = cum_rewards - values_new\n",
    "    ### # Uncomment if you use normalized advantages (see above note)\n",
    "    ### advantages = (advantages - advantages.mean()) / advantages.std()\n",
    "    # Calculate P_new / P_old\n",
    "    probs_new = F.softmax(logits_new, dim=-1)\n",
    "    probs_old = F.softmax(logits_old, dim=-1)\n",
    "    # Get action probabilities\n",
    "    actions_one_hot = F.one_hot(actions, num_classes=2).to(torch.float)\n",
    "    prob_new = torch.sum(probs_new * actions_one_hot, dim=1, keepdim=True)\n",
    "    prob_old = torch.sum(probs_old * actions_one_hot, dim=1, keepdim=True)\n",
    "    # Calculate ratio\n",
    "    ratio = prob_new / prob_old\n",
    "\n",
    "    # Calculate KL-div for Categorical distribution (see above)\n",
    "    kl_div = torch.sum(probs_old * torch.log(probs_old / probs_new + 1e-10), dim=1, keepdim=True)\n",
    "\n",
    "    # Get value loss\n",
    "    value_loss = F.mse_loss(values_new, cum_rewards)\n",
    "\n",
    "    # Get total loss\n",
    "    # Policy loss (negative because we want to maximize)\n",
    "    policy_loss = -torch.mean(ratio * advantages)\n",
    "    # KL penalty\n",
    "    kl_loss = torch.mean(kl_div)\n",
    "    # Combine all losses\n",
    "    total_loss = policy_loss + kl_coeff * kl_loss + vf_coeff * value_loss\n",
    "\n",
    "    # Optimize\n",
    "    total_loss.backward()\n",
    "    opt.step()\n",
    "\n",
    "    # Output total rewards in episode (max 500)\n",
    "    print(\"Run episode{} with rewards {}\".format(i, np.sum(rewards)), end=\"\\r\")\n",
    "    reward_records.append(np.sum(rewards))\n",
    "\n",
    "    # stop if reward mean > 475.0\n",
    "    if np.average(reward_records[-50:]) > 475.0:\n",
    "        break\n",
    "\n",
    "print(\"\\nDone\")\n",
    "env.close()"
   ]
  },
  {
   "cell_type": "code",
   "execution_count": 75,
   "id": "12f2392e-4dc0-42b4-8a60-7208f2ba5846",
   "metadata": {
    "scrolled": true
   },
   "outputs": [
    {
     "data": {
      "text/plain": [
       "Text(0, 0.5, 'Total Reward')"
      ]
     },
     "execution_count": 75,
     "metadata": {},
     "output_type": "execute_result"
    },
    {
     "data": {
      "image/png": "[encoded data removed]",
      "text/plain": [
       "<Figure size 640x480 with 1 Axes>"
      ]
     },
     "metadata": {},
     "output_type": "display_data"
    }
   ],
   "source": [
    "import matplotlib.pyplot as plt\n",
    "# Generate recent 50 interval average\n",
    "average_reward = []\n",
    "for idx in range(len(reward_records)):\n",
    "    avg_list = np.empty(shape=(1,), dtype=int)\n",
    "    if idx < 50:\n",
    "        avg_list = reward_records[:idx+1]\n",
    "    else:\n",
    "        avg_list = reward_records[idx-49:idx+1]\n",
    "    average_reward.append(np.average(avg_list))\n",
    "plt.plot(reward_records)\n",
    "plt.plot(average_reward)\n",
    "plt.title(\"PPO Learning Curve\")\n",
    "plt.xlabel(\"Episode\")\n",
    "plt.ylabel(\"Total Reward\")"
   ]
  },
  {
   "cell_type": "code",
   "execution_count": null,
   "id": "f679ec70-d85a-4bd1-80c3-f25c437da1f9",
   "metadata": {},
   "outputs": [],
   "source": []
  }
 ],
 "metadata": {
  "kernelspec": {
   "display_name": "Python 3",
   "language": "python",
   "name": "python3"
  },
  "language_info": {
   "codemirror_mode": {
    "name": "ipython",
    "version": 3
   },
   "file_extension": ".py",
   "mimetype": "text/x-python",
   "name": "python",
   "nbconvert_exporter": "python",
   "pygments_lexer": "ipython3",
   "version": "3.12.7"
  }
 },
 "nbformat": 4,
 "nbformat_minor": 5
}
